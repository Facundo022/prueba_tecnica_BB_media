{
 "cells": [
  {
   "cell_type": "code",
   "execution_count": 5,
   "metadata": {},
   "outputs": [
    {
     "data": {
      "text/html": [
       "<div>\n",
       "<style scoped>\n",
       "    .dataframe tbody tr th:only-of-type {\n",
       "        vertical-align: middle;\n",
       "    }\n",
       "\n",
       "    .dataframe tbody tr th {\n",
       "        vertical-align: top;\n",
       "    }\n",
       "\n",
       "    .dataframe thead th {\n",
       "        text-align: right;\n",
       "    }\n",
       "</style>\n",
       "<table border=\"1\" class=\"dataframe\">\n",
       "  <thead>\n",
       "    <tr style=\"text-align: right;\">\n",
       "      <th></th>\n",
       "      <th>titulo</th>\n",
       "      <th>sinopsis</th>\n",
       "      <th>categoria</th>\n",
       "    </tr>\n",
       "  </thead>\n",
       "  <tbody>\n",
       "    <tr>\n",
       "      <th>0</th>\n",
       "      <td>CSI: Miami</td>\n",
       "      <td>En CSI Miami sigue a un equipo de detectives f...</td>\n",
       "      <td>Destacado</td>\n",
       "    </tr>\n",
       "    <tr>\n",
       "      <th>1</th>\n",
       "      <td>Pluto TV Cine Estelar</td>\n",
       "      <td>Si tu sueño es vivir en Hollywood y no puedes ...</td>\n",
       "      <td>Destacado</td>\n",
       "    </tr>\n",
       "    <tr>\n",
       "      <th>2</th>\n",
       "      <td>NCIS</td>\n",
       "      <td>NCIS es una serie que sigue a un equipo de age...</td>\n",
       "      <td>Destacado</td>\n",
       "    </tr>\n",
       "    <tr>\n",
       "      <th>3</th>\n",
       "      <td>ITV Deportes</td>\n",
       "      <td>En ITV Deportes vas a poder ver los mejores pa...</td>\n",
       "      <td>Destacado</td>\n",
       "    </tr>\n",
       "    <tr>\n",
       "      <th>4</th>\n",
       "      <td>Pluto TV Series de Acción</td>\n",
       "      <td>Pluto TV Series de Acción es el canal del mara...</td>\n",
       "      <td>Destacado</td>\n",
       "    </tr>\n",
       "  </tbody>\n",
       "</table>\n",
       "</div>"
      ],
      "text/plain": [
       "                      titulo  \\\n",
       "0                 CSI: Miami   \n",
       "1      Pluto TV Cine Estelar   \n",
       "2                       NCIS   \n",
       "3               ITV Deportes   \n",
       "4  Pluto TV Series de Acción   \n",
       "\n",
       "                                            sinopsis  categoria  \n",
       "0  En CSI Miami sigue a un equipo de detectives f...  Destacado  \n",
       "1  Si tu sueño es vivir en Hollywood y no puedes ...  Destacado  \n",
       "2  NCIS es una serie que sigue a un equipo de age...  Destacado  \n",
       "3  En ITV Deportes vas a poder ver los mejores pa...  Destacado  \n",
       "4  Pluto TV Series de Acción es el canal del mara...  Destacado  "
      ]
     },
     "execution_count": 5,
     "metadata": {},
     "output_type": "execute_result"
    }
   ],
   "source": [
    "import pandas as pd\n",
    "\n",
    "filepath = 'TV_vivo_data_plutoTV.json'\n",
    "df = pd.read_json(filepath)\n",
    "df.head() # Verifica si se carga correctamente y muestra las primeras filas\n"
   ]
  }
 ],
 "metadata": {
  "kernelspec": {
   "display_name": "Python 3",
   "language": "python",
   "name": "python3"
  },
  "language_info": {
   "codemirror_mode": {
    "name": "ipython",
    "version": 3
   },
   "file_extension": ".py",
   "mimetype": "text/x-python",
   "name": "python",
   "nbconvert_exporter": "python",
   "pygments_lexer": "ipython3",
   "version": "3.12.3"
  }
 },
 "nbformat": 4,
 "nbformat_minor": 2
}
