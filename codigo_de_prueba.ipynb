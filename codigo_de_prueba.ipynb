{
 "cells": [
  {
   "cell_type": "code",
   "execution_count": 2,
   "metadata": {},
   "outputs": [],
   "source": [
    "from selenium import webdriver\n",
    "from selenium.webdriver.chrome.service import Service\n",
    "from selenium.webdriver.chrome.options import Options\n",
    "from selenium.webdriver.common.action_chains import ActionChains\n",
    "from selenium.webdriver.common.keys import Keys\n",
    "from selenium.webdriver.common.by import By\n",
    "from time import sleep\n",
    "from selenium.webdriver.support.ui import WebDriverWait\n",
    "from selenium.webdriver.support import expected_conditions as EC\n"
   ]
  },
  {
   "cell_type": "code",
   "execution_count": 19,
   "metadata": {},
   "outputs": [
    {
     "name": "stdout",
     "output_type": "stream",
     "text": [
      "<selenium.webdriver.remote.webelement.WebElement (session=\"4659a5c7973db5fd7636d68b58bf2725\", element=\"f.E29833389AAE7B6D8D7D35FA92E3BC86.d.01E109384FB7705EFFCCDEEB67626299.e.213\")>\n"
     ]
    }
   ],
   "source": [
    "# Configura el navegador (ejemplo con Chrome)\n",
    "driver = webdriver.Chrome()\n",
    "\n",
    "driver.get(\"https://pluto.tv/latam/on-demand\")\n",
    "\n",
    "sleep(5)\n",
    "\n",
    "Pelis_Button = WebDriverWait(driver, 10).until(\n",
    "        EC.element_to_be_clickable((By.XPATH, '/html/body/div[1]/div/div/div/main/div[3]/section/div[2]/ul/li[2]/div/button')))\n",
    "\n",
    "driver.execute_script(\"document.body.style.zoom='50%'\") \n",
    "\n",
    "sleep(3)\n",
    "\n",
    "Pelis_Button.click()\n",
    "\n",
    "sleep(3)\n",
    "\n",
    "indice = 0\n",
    "element = driver.find_element(By.CSS_SELECTOR, \"section:nth-child(5) > span > div > div.category-0-2-253.childCategory > span > a[type='button'][href]\")\n",
    "element.click()\n",
    "\n",
    "print(element)\n",
    "\n",
    "sleep(5)\n",
    "\n",
    "# Cierra el navegador\n",
    "driver.quit()"
   ]
  },
  {
   "cell_type": "code",
   "execution_count": 20,
   "metadata": {},
   "outputs": [],
   "source": [
    "# Configura el navegador (ejemplo con Chrome)\n",
    "driver = webdriver.Chrome()\n",
    "\n",
    "# Abre la página web\n",
    "driver.get(\"https://pluto.tv/latam/on-demand/618da9791add6600071d68b0/6419c584dbdaaa000845cad0?lang=en\")\n",
    "\n",
    "time.sleep(10)\n",
    "\n",
    "# Simula Ctrl + - (zoom out)\n",
    "actions = ActionChains(driver)\n",
    "\n",
    "actions.key_down(Keys.CONTROL).send_keys(Keys.SUBTRACT).key_up(Keys.CONTROL).perform()\n",
    "\n",
    "# Espera para ver el resultado\n",
    "time.sleep(10)\n",
    "\n",
    "# Cierra el navegador\n",
    "driver.quit()\n"
   ]
  },
  {
   "cell_type": "code",
   "execution_count": 5,
   "metadata": {},
   "outputs": [
    {
     "name": "stdout",
     "output_type": "stream",
     "text": [
      "[{'title': 'Video Player'}, {'title': ''}, {'title': 'On Demand Highlights Carousel'}, {'title': 'South Park'}, {'title': 'On Demand Categories'}, {'title': ''}]\n",
      "Los datos han sido guardados en datos_extraidos.json.\n"
     ]
    }
   ],
   "source": [
    "from selenium import webdriver\n",
    "from selenium.webdriver.common.by import By\n",
    "import json\n",
    "\n",
    "# Configura el controlador del navegador (Chrome en este caso)\n",
    "driver = webdriver.Chrome()\n",
    "\n",
    "# Abre la página web\n",
    "driver.get(\"https://pluto.tv/latam/on-demand/series/645ab1ce5348f4001a21019c/season/1?lang=es\")\n",
    "\n",
    "sleep(6)\n",
    "# Extrae los datos deseados\n",
    "data_extracted = []\n",
    "\n",
    "# Suponiendo que queremos extraer títulos de elementos en una lista de la página\n",
    "elements = driver.find_elements(By.TAG_NAME, 'h2')  # Encuentra todos los elementos <h2> en la página\n",
    "\n",
    "for element in elements:\n",
    "    data_extracted.append({\n",
    "        'title': element.text\n",
    "    })\n",
    "\n",
    "# Cierra el navegador\n",
    "driver.quit()\n",
    "\n",
    "# Muestra los datos extraídos\n",
    "print(data_extracted)\n",
    "\n",
    "# Especifica el nombre del archivo JSON\n",
    "filename = 'datos_extraidos.json'\n",
    "\n",
    "# Abre el archivo en modo de escritura y guarda los datos\n",
    "with open(filename, 'w', encoding='utf-8') as f:\n",
    "    json.dump(data_extracted, f, ensure_ascii=False, indent=4)\n",
    "\n",
    "print(f\"Los datos han sido guardados en {filename}.\")\n",
    "\n"
   ]
  },
  {
   "cell_type": "code",
   "execution_count": 7,
   "metadata": {},
   "outputs": [
    {
     "name": "stdout",
     "output_type": "stream",
     "text": [
      "['TV-G', '', 'Noticias e Información', '', '', '', '4 Temporadas Disponibles']\n"
     ]
    }
   ],
   "source": [
    "from selenium import webdriver\n",
    "from selenium.webdriver.common.by import By\n",
    "\n",
    "# Configuración del driver (por ejemplo, para Chrome)\n",
    "driver = webdriver.Chrome()\n",
    "\n",
    "# Abre la página web\n",
    "driver.get('https://pluto.tv/latam/on-demand/series/645ab1ce5348f4001a21019c/season/1?lang=es')  # Cambia 'https://example.com' por la URL real\n",
    "\n",
    "sleep(6)\n",
    "\n",
    "# Encuentra la lista usando el XPath\n",
    "lista_elementos = driver.find_elements(By.XPATH, '//*[@id=\"overlay-container\"]/div/div/div/section/div/div[1]/div[2]/ul/li')\n",
    "\n",
    "# Extrae el texto de cada elemento <li> dentro de la lista\n",
    "datos_extraidos = [elemento.text for elemento in lista_elementos]\n",
    "\n",
    "# Imprime los datos extraídos\n",
    "print(datos_extraidos)\n",
    "\n",
    "# Cierra el navegador\n",
    "driver.quit()\n"
   ]
  },
  {
   "cell_type": "code",
   "execution_count": 4,
   "metadata": {},
   "outputs": [
    {
     "name": "stdout",
     "output_type": "stream",
     "text": [
      "La cantidad de elementos <li> dentro del <ul> es: 19\n"
     ]
    }
   ],
   "source": [
    "from selenium import webdriver\n",
    "from selenium.webdriver.common.by import By\n",
    "\n",
    "# Configura el WebDriver (por ejemplo, Chrome)\n",
    "driver = webdriver.Chrome()\n",
    "\n",
    "# Abre la página web\n",
    "driver.get('https://pluto.tv/latam/on-demand/618da9791add6600071d68b0/6419c584dbdaaa000845cad0?lang=es')\n",
    "\n",
    "sleep(7)\n",
    "\n",
    "# Localiza el <ul> usando el XPATH proporcionado\n",
    "ul_element = driver.find_element(By.XPATH, '//*[@id=\"overlay-container\"]/div/div/div[1]/ul')\n",
    "\n",
    "# Encuentra todos los elementos <li> dentro del <ul>\n",
    "li_elements = ul_element.find_elements(By.TAG_NAME, 'li')\n",
    "\n",
    "# Obtén la cantidad de elementos <li>\n",
    "cantidad_li = len(li_elements)\n",
    "\n",
    "print(f\"La cantidad de elementos <li> dentro del <ul> es: {cantidad_li}\")\n",
    "\n",
    "# Cierra el navegador\n",
    "driver.quit()\n"
   ]
  }
 ],
 "metadata": {
  "kernelspec": {
   "display_name": "Python 3",
   "language": "python",
   "name": "python3"
  },
  "language_info": {
   "codemirror_mode": {
    "name": "ipython",
    "version": 3
   },
   "file_extension": ".py",
   "mimetype": "text/x-python",
   "name": "python",
   "nbconvert_exporter": "python",
   "pygments_lexer": "ipython3",
   "version": "3.12.3"
  }
 },
 "nbformat": 4,
 "nbformat_minor": 2
}
